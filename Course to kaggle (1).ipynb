{
 "cells": [
  {
   "cell_type": "code",
   "execution_count": 1,
   "id": "a100f935",
   "metadata": {},
   "outputs": [],
   "source": [
    "#importing libraries \n",
    "import pandas as pd\n",
    "import numpy as np\n",
    "import matplotlib.pyplot as plt\n",
    "import seaborn as sns"
   ]
  },
  {
   "cell_type": "code",
   "execution_count": 2,
   "id": "1847dfea",
   "metadata": {},
   "outputs": [
    {
     "data": {
      "text/html": [
       "<div>\n",
       "<style scoped>\n",
       "    .dataframe tbody tr th:only-of-type {\n",
       "        vertical-align: middle;\n",
       "    }\n",
       "\n",
       "    .dataframe tbody tr th {\n",
       "        vertical-align: top;\n",
       "    }\n",
       "\n",
       "    .dataframe thead th {\n",
       "        text-align: right;\n",
       "    }\n",
       "</style>\n",
       "<table border=\"1\" class=\"dataframe\">\n",
       "  <thead>\n",
       "    <tr style=\"text-align: right;\">\n",
       "      <th></th>\n",
       "      <th>Name</th>\n",
       "      <th>University</th>\n",
       "      <th>Difficulty Level</th>\n",
       "      <th>Link</th>\n",
       "      <th>About</th>\n",
       "      <th>Course Description</th>\n",
       "    </tr>\n",
       "  </thead>\n",
       "  <tbody>\n",
       "    <tr>\n",
       "      <th>0</th>\n",
       "      <td>How to Learn Online</td>\n",
       "      <td>edX</td>\n",
       "      <td>Beginner</td>\n",
       "      <td>https://www.edx.org/course/how-to-learn-online</td>\n",
       "      <td>Learn essential strategies for successful onli...</td>\n",
       "      <td>Designed for those who are new to elearning, t...</td>\n",
       "    </tr>\n",
       "    <tr>\n",
       "      <th>1</th>\n",
       "      <td>Programming for Everybody (Getting Started wit...</td>\n",
       "      <td>The University of Michigan</td>\n",
       "      <td>Beginner</td>\n",
       "      <td>https://www.edx.org/course/programming-for-eve...</td>\n",
       "      <td>This course is a \"no prerequisite\" introductio...</td>\n",
       "      <td>This course aims to teach everyone the basics ...</td>\n",
       "    </tr>\n",
       "  </tbody>\n",
       "</table>\n",
       "</div>"
      ],
      "text/plain": [
       "                                                Name  \\\n",
       "0                                How to Learn Online   \n",
       "1  Programming for Everybody (Getting Started wit...   \n",
       "\n",
       "                   University Difficulty Level  \\\n",
       "0                         edX         Beginner   \n",
       "1  The University of Michigan         Beginner   \n",
       "\n",
       "                                                Link  \\\n",
       "0     https://www.edx.org/course/how-to-learn-online   \n",
       "1  https://www.edx.org/course/programming-for-eve...   \n",
       "\n",
       "                                               About  \\\n",
       "0  Learn essential strategies for successful onli...   \n",
       "1  This course is a \"no prerequisite\" introductio...   \n",
       "\n",
       "                                  Course Description  \n",
       "0  Designed for those who are new to elearning, t...  \n",
       "1  This course aims to teach everyone the basics ...  "
      ]
     },
     "execution_count": 2,
     "metadata": {},
     "output_type": "execute_result"
    }
   ],
   "source": [
    "#reading the data\n",
    "data = pd.read_csv('Dataset/EdX.csv')\n",
    "data.head(2)"
   ]
  },
  {
   "cell_type": "code",
   "execution_count": 3,
   "id": "b7a793f6",
   "metadata": {},
   "outputs": [
    {
     "name": "stdout",
     "output_type": "stream",
     "text": [
      "<class 'pandas.core.frame.DataFrame'>\n",
      "RangeIndex: 720 entries, 0 to 719\n",
      "Data columns (total 6 columns):\n",
      " #   Column              Non-Null Count  Dtype \n",
      "---  ------              --------------  ----- \n",
      " 0   Name                720 non-null    object\n",
      " 1   University          720 non-null    object\n",
      " 2   Difficulty Level    720 non-null    object\n",
      " 3   Link                720 non-null    object\n",
      " 4   About               720 non-null    object\n",
      " 5   Course Description  720 non-null    object\n",
      "dtypes: object(6)\n",
      "memory usage: 33.9+ KB\n"
     ]
    }
   ],
   "source": [
    "data.info()\n"
   ]
  },
  {
   "cell_type": "code",
   "execution_count": 4,
   "id": "5281b6a4",
   "metadata": {},
   "outputs": [
    {
     "data": {
      "text/plain": [
       "1"
      ]
     },
     "execution_count": 4,
     "metadata": {},
     "output_type": "execute_result"
    }
   ],
   "source": [
    "#checking for duplicates\n",
    "data.duplicated().sum()"
   ]
  },
  {
   "cell_type": "code",
   "execution_count": 5,
   "id": "c9bd2a6b",
   "metadata": {},
   "outputs": [],
   "source": [
    "#dropping the duplicate\n",
    "data.drop_duplicates(inplace = True)"
   ]
  },
  {
   "cell_type": "code",
   "execution_count": 6,
   "id": "80b265dc",
   "metadata": {},
   "outputs": [],
   "source": [
    "data.reset_index(drop = True, inplace = True)"
   ]
  },
  {
   "cell_type": "markdown",
   "id": "e8ef3ab4",
   "metadata": {},
   "source": [
    "__Data has 6 columns and 719 rows. No null values and duplicated records have been removed.__"
   ]
  },
  {
   "cell_type": "code",
   "execution_count": 7,
   "id": "65fdeb65",
   "metadata": {},
   "outputs": [],
   "source": [
    "#drop the link column\n",
    "data.drop('Link', axis = 1, inplace = True)"
   ]
  },
  {
   "cell_type": "code",
   "execution_count": 8,
   "id": "09735fa1",
   "metadata": {},
   "outputs": [
    {
     "data": {
      "text/html": [
       "<div>\n",
       "<style scoped>\n",
       "    .dataframe tbody tr th:only-of-type {\n",
       "        vertical-align: middle;\n",
       "    }\n",
       "\n",
       "    .dataframe tbody tr th {\n",
       "        vertical-align: top;\n",
       "    }\n",
       "\n",
       "    .dataframe thead th {\n",
       "        text-align: right;\n",
       "    }\n",
       "</style>\n",
       "<table border=\"1\" class=\"dataframe\">\n",
       "  <thead>\n",
       "    <tr style=\"text-align: right;\">\n",
       "      <th></th>\n",
       "      <th>Name</th>\n",
       "      <th>University</th>\n",
       "      <th>Difficulty Level</th>\n",
       "      <th>About</th>\n",
       "      <th>Course Description</th>\n",
       "    </tr>\n",
       "  </thead>\n",
       "  <tbody>\n",
       "    <tr>\n",
       "      <th>717</th>\n",
       "      <td>Cities and the Challenge of Sustainable Develo...</td>\n",
       "      <td>SDG Academy</td>\n",
       "      <td>Beginner</td>\n",
       "      <td>What is a sustainable city? Learn the basics h...</td>\n",
       "      <td>According to the United Nations, urbanization ...</td>\n",
       "    </tr>\n",
       "    <tr>\n",
       "      <th>718</th>\n",
       "      <td>MathTrackX: Special Functions</td>\n",
       "      <td>University of Adelaide</td>\n",
       "      <td>Beginner</td>\n",
       "      <td>Understand trigonometric, exponential and loga...</td>\n",
       "      <td>This course is part two of the MathTrackX XSer...</td>\n",
       "    </tr>\n",
       "  </tbody>\n",
       "</table>\n",
       "</div>"
      ],
      "text/plain": [
       "                                                  Name  \\\n",
       "717  Cities and the Challenge of Sustainable Develo...   \n",
       "718                      MathTrackX: Special Functions   \n",
       "\n",
       "                 University Difficulty Level  \\\n",
       "717             SDG Academy         Beginner   \n",
       "718  University of Adelaide         Beginner   \n",
       "\n",
       "                                                 About  \\\n",
       "717  What is a sustainable city? Learn the basics h...   \n",
       "718  Understand trigonometric, exponential and loga...   \n",
       "\n",
       "                                    Course Description  \n",
       "717  According to the United Nations, urbanization ...  \n",
       "718  This course is part two of the MathTrackX XSer...  "
      ]
     },
     "execution_count": 8,
     "metadata": {},
     "output_type": "execute_result"
    }
   ],
   "source": [
    "data.tail(2)"
   ]
  },
  {
   "cell_type": "markdown",
   "id": "7cf2b5fb",
   "metadata": {},
   "source": [
    "# Exploratory Data Analysis"
   ]
  },
  {
   "cell_type": "code",
   "execution_count": 9,
   "id": "6aec15ea",
   "metadata": {},
   "outputs": [
    {
     "name": "stdout",
     "output_type": "stream",
     "text": [
      "The number of universities or industry partners offering these courses is 102.\n"
     ]
    }
   ],
   "source": [
    "#Number of universities or industry partners offering these courses\n",
    "print(f\"The number of universities or industry partners offering these courses is {data.University.nunique()}.\")"
   ]
  },
  {
   "cell_type": "code",
   "execution_count": 10,
   "id": "c5a84a58",
   "metadata": {},
   "outputs": [
    {
     "name": "stdout",
     "output_type": "stream",
     "text": [
      "Harvard University is the university with highest number of courses - 90 courses.\n"
     ]
    }
   ],
   "source": [
    "#The university or industry partners with highest number of courses\n",
    "print(f\"{data.University.value_counts().index[0]} is the university with highest number of courses - {data.University.value_counts().values[0]} courses.\") "
   ]
  },
  {
   "cell_type": "code",
   "execution_count": 11,
   "id": "b76ce2bf",
   "metadata": {},
   "outputs": [
    {
     "data": {
      "text/plain": [
       "Index(['Harvard University', 'Massachusetts Institute of Technology',\n",
       "       'Delft University of Technology', 'The University of Queensland',\n",
       "       'IBM'],\n",
       "      dtype='object')"
      ]
     },
     "execution_count": 11,
     "metadata": {},
     "output_type": "execute_result"
    }
   ],
   "source": [
    "top_5 = data.University.value_counts()[ : 5].index\n",
    "top_5"
   ]
  },
  {
   "cell_type": "code",
   "execution_count": 12,
   "id": "3819e596",
   "metadata": {},
   "outputs": [
    {
     "data": {
      "image/png": "[encoded data removed]",
      "text/plain": [
       "<Figure size 640x480 with 1 Axes>"
      ]
     },
     "metadata": {},
     "output_type": "display_data"
    }
   ],
   "source": [
    "ax = sns.barplot(x = data.University.value_counts()[ : 10].index, y = data.University.value_counts()[ : 10].values, palette = 'flare_r')\n",
    "plt.title('Top 10 univertities/industry partners', fontsize = 10)\n",
    "plt.xlabel('University/Industry Partners')\n",
    "plt.ylabel('Number of courses')\n",
    "plt.xticks(rotation = 90)\n",
    "for i in ax.containers:\n",
    "    ax.bar_label(i,)"
   ]
  },
  {
   "cell_type": "code",
   "execution_count": 13,
   "id": "94b866b6",
   "metadata": {},
   "outputs": [
    {
     "name": "stdout",
     "output_type": "stream",
     "text": [
      "Beginner Level\t\t 437\n",
      "Intermediate Level\t 204\n",
      "Advanced Level\t\t 78\n"
     ]
    }
   ],
   "source": [
    "print(f\"Beginner Level\\t\\t {data['Difficulty Level'].value_counts().values[0]}\\nIntermediate Level\\t {data['Difficulty Level'].value_counts().values[1]}\\nAdvanced Level\\t\\t {data['Difficulty Level'].value_counts().values[2]}\")"
   ]
  },
  {
   "cell_type": "code",
   "execution_count": 14,
   "id": "d79e81c2",
   "metadata": {},
   "outputs": [
    {
     "data": {
      "text/plain": [
       "Text(0.5, 1.0, 'Difficulty Level')"
      ]
     },
     "execution_count": 14,
     "metadata": {},
     "output_type": "execute_result"
    },
    {
     "data": {
      "image/png": "[encoded data removed]",
      "text/plain": [
       "<Figure size 600x400 with 1 Axes>"
      ]
     },
     "metadata": {},
     "output_type": "display_data"
    }
   ],
   "source": [
    "#Percentage of passengers that survived and not survived\n",
    "plt.figure(figsize = (6,4))\n",
    "label = data['Difficulty Level'].value_counts().index\n",
    "palette = sns.color_palette('flare')\n",
    "explode = [0, 0, 0.1]\n",
    "plt.pie(x = data['Difficulty Level'].value_counts().values, labels = label, colors = palette, explode = explode, autopct = '%.0f%%')\n",
    "plt.title('Difficulty Level', fontsize = 10)"
   ]
  },
  {
   "cell_type": "code",
   "execution_count": 15,
   "id": "8b3f47cd",
   "metadata": {},
   "outputs": [],
   "source": [
    "top5 = ['Harvard University', 'Massachusetts Institute of Technology',\n",
    "       'Delft University of Technology', 'The University of Queensland',\n",
    "       'IBM']\n",
    "top5_University = data[data.University.isin(top5)]"
   ]
  },
  {
   "cell_type": "code",
   "execution_count": 16,
   "id": "26215fbd",
   "metadata": {},
   "outputs": [
    {
     "data": {
      "text/plain": [
       "2                         Harvard University\n",
       "3      Massachusetts Institute of Technology\n",
       "6               The University of Queensland\n",
       "10                        Harvard University\n",
       "12              The University of Queensland\n",
       "                       ...                  \n",
       "696    Massachusetts Institute of Technology\n",
       "700             The University of Queensland\n",
       "702                       Harvard University\n",
       "709                                      IBM\n",
       "714                       Harvard University\n",
       "Name: University, Length: 205, dtype: object"
      ]
     },
     "execution_count": 16,
     "metadata": {},
     "output_type": "execute_result"
    }
   ],
   "source": [
    "top5_University.University"
   ]
  },
  {
   "cell_type": "code",
   "execution_count": 17,
   "id": "70505ab7",
   "metadata": {},
   "outputs": [
    {
     "data": {
      "image/png": "[encoded data removed]",
      "text/plain": [
       "<Figure size 1000x600 with 1 Axes>"
      ]
     },
     "metadata": {},
     "output_type": "display_data"
    }
   ],
   "source": [
    "plt.figure(figsize = (10,6))\n",
    "ax = sns.countplot(x = top5_University.University, hue = top5_University['Difficulty Level'], palette = 'flare')\n",
    "plt.xticks(rotation = 90)\n",
    "plt.title('Difficulty level of courses of the Top 5 universities/industry partners', fontsize = 10)\n",
    "plt.xlabel('University/Industry Partners')\n",
    "plt.ylabel('Number of courses')\n",
    "for i in ax.containers:\n",
    "    ax.bar_label(i,)"
   ]
  },
  {
   "cell_type": "markdown",
   "id": "5631b241",
   "metadata": {},
   "source": [
    "__Most of the courses from Harvard University are for Beginners. Hence, Harvard University has the highest number of courses for beginners; Delft University of Technology has the highest number of courses in the Intermediate Level and Massachusetts Institute of Technology has the highest number of courses in the Advanced Level.__"
   ]
  },
  {
   "cell_type": "markdown",
   "id": "6dc8c43f",
   "metadata": {},
   "source": [
    "# NLP"
   ]
  },
  {
   "cell_type": "markdown",
   "id": "a018a9aa",
   "metadata": {},
   "source": [
    "__Preprocessing__"
   ]
  },
  {
   "cell_type": "code",
   "execution_count": 18,
   "id": "2f2a6a8c",
   "metadata": {},
   "outputs": [],
   "source": [
    "data.drop(columns = [\"University\", \"Difficulty Level\"], axis =1, inplace = True)"
   ]
  },
  {
   "cell_type": "code",
   "execution_count": 19,
   "id": "aba41124",
   "metadata": {},
   "outputs": [],
   "source": [
    "df = data.copy()"
   ]
  },
  {
   "cell_type": "code",
   "execution_count": 20,
   "id": "44947444",
   "metadata": {},
   "outputs": [
    {
     "data": {
      "text/html": [
       "<div>\n",
       "<style scoped>\n",
       "    .dataframe tbody tr th:only-of-type {\n",
       "        vertical-align: middle;\n",
       "    }\n",
       "\n",
       "    .dataframe tbody tr th {\n",
       "        vertical-align: top;\n",
       "    }\n",
       "\n",
       "    .dataframe thead th {\n",
       "        text-align: right;\n",
       "    }\n",
       "</style>\n",
       "<table border=\"1\" class=\"dataframe\">\n",
       "  <thead>\n",
       "    <tr style=\"text-align: right;\">\n",
       "      <th></th>\n",
       "      <th>Name</th>\n",
       "      <th>About</th>\n",
       "      <th>Course Description</th>\n",
       "      <th>Description</th>\n",
       "    </tr>\n",
       "  </thead>\n",
       "  <tbody>\n",
       "    <tr>\n",
       "      <th>0</th>\n",
       "      <td>How to Learn Online</td>\n",
       "      <td>Learn essential strategies for successful onli...</td>\n",
       "      <td>Designed for those who are new to elearning, t...</td>\n",
       "      <td>How to Learn Online Learn essential strategies...</td>\n",
       "    </tr>\n",
       "    <tr>\n",
       "      <th>1</th>\n",
       "      <td>Programming for Everybody (Getting Started wit...</td>\n",
       "      <td>This course is a \"no prerequisite\" introductio...</td>\n",
       "      <td>This course aims to teach everyone the basics ...</td>\n",
       "      <td>Programming for Everybody (Getting Started wit...</td>\n",
       "    </tr>\n",
       "    <tr>\n",
       "      <th>2</th>\n",
       "      <td>CS50's Introduction to Computer Science</td>\n",
       "      <td>An introduction to the intellectual enterprise...</td>\n",
       "      <td>This is CS50x , Harvard University's introduct...</td>\n",
       "      <td>CS50's Introduction to Computer Science An int...</td>\n",
       "    </tr>\n",
       "    <tr>\n",
       "      <th>3</th>\n",
       "      <td>The Analytics Edge</td>\n",
       "      <td>Through inspiring examples and stories, discov...</td>\n",
       "      <td>In the last decade, the amount of data availab...</td>\n",
       "      <td>The Analytics Edge Through inspiring examples ...</td>\n",
       "    </tr>\n",
       "    <tr>\n",
       "      <th>4</th>\n",
       "      <td>Marketing Analytics: Marketing Measurement Str...</td>\n",
       "      <td>This course is part of a MicroMasters® Program</td>\n",
       "      <td>Begin your journey in a new career in marketin...</td>\n",
       "      <td>Marketing Analytics: Marketing Measurement Str...</td>\n",
       "    </tr>\n",
       "  </tbody>\n",
       "</table>\n",
       "</div>"
      ],
      "text/plain": [
       "                                                Name  \\\n",
       "0                                How to Learn Online   \n",
       "1  Programming for Everybody (Getting Started wit...   \n",
       "2            CS50's Introduction to Computer Science   \n",
       "3                                 The Analytics Edge   \n",
       "4  Marketing Analytics: Marketing Measurement Str...   \n",
       "\n",
       "                                               About  \\\n",
       "0  Learn essential strategies for successful onli...   \n",
       "1  This course is a \"no prerequisite\" introductio...   \n",
       "2  An introduction to the intellectual enterprise...   \n",
       "3  Through inspiring examples and stories, discov...   \n",
       "4     This course is part of a MicroMasters® Program   \n",
       "\n",
       "                                  Course Description  \\\n",
       "0  Designed for those who are new to elearning, t...   \n",
       "1  This course aims to teach everyone the basics ...   \n",
       "2  This is CS50x , Harvard University's introduct...   \n",
       "3  In the last decade, the amount of data availab...   \n",
       "4  Begin your journey in a new career in marketin...   \n",
       "\n",
       "                                         Description  \n",
       "0  How to Learn Online Learn essential strategies...  \n",
       "1  Programming for Everybody (Getting Started wit...  \n",
       "2  CS50's Introduction to Computer Science An int...  \n",
       "3  The Analytics Edge Through inspiring examples ...  \n",
       "4  Marketing Analytics: Marketing Measurement Str...  "
      ]
     },
     "execution_count": 20,
     "metadata": {},
     "output_type": "execute_result"
    }
   ],
   "source": [
    "data['Description'] = data['Name'] + ' ' + data['About'] + ' ' + data['Course Description']\n",
    "data.head(5)"
   ]
  },
  {
   "cell_type": "code",
   "execution_count": 21,
   "id": "ffe8e3b8",
   "metadata": {},
   "outputs": [],
   "source": [
    "#importing the dependencies needed for pre processing\n",
    "import re\n",
    "from nltk.corpus import stopwords\n",
    "from nltk.tokenize import word_tokenize\n",
    "from nltk.stem import PorterStemmer\n",
    "from nltk.stem import WordNetLemmatizer"
   ]
  },
  {
   "cell_type": "code",
   "execution_count": 22,
   "id": "ee9805e9",
   "metadata": {},
   "outputs": [],
   "source": [
    "#importing English stopwords\n",
    "en_stopwords = stopwords.words(\"English\")"
   ]
  },
  {
   "cell_type": "code",
   "execution_count": 23,
   "id": "6d530133",
   "metadata": {},
   "outputs": [],
   "source": [
    "lemma = WordNetLemmatizer()"
   ]
  },
  {
   "cell_type": "code",
   "execution_count": 24,
   "id": "7c36cee4",
   "metadata": {},
   "outputs": [],
   "source": [
    "#define a function for preprocessing\n",
    "def clean(text):\n",
    "    text = re.sub(\"[^A-Za-z1-9 ]\", \"\", text) #removes punctuation marks\n",
    "    text = text.lower() #changes to lower case\n",
    "    tokens = word_tokenize(text) #tokenize the text\n",
    "    clean_list = [] \n",
    "    for token in tokens:\n",
    "        if token not in en_stopwords: #removes stopwords\n",
    "            clean_list.append(lemma.lemmatize(token)) #lemmatizing and appends to clean_list\n",
    "    return \" \".join(clean_list)# joins the tokens"
   ]
  },
  {
   "cell_type": "code",
   "execution_count": 25,
   "id": "8f27100d",
   "metadata": {},
   "outputs": [],
   "source": [
    "#applying the \"clean\" function on the Description column\n",
    "data.Description = data.Description.apply(clean)"
   ]
  },
  {
   "cell_type": "code",
   "execution_count": 26,
   "id": "9fca4d1c",
   "metadata": {},
   "outputs": [
    {
     "data": {
      "text/plain": [
       "0      learn online learn essential strategy successf...\n",
       "1      programming everybody getting started python c...\n",
       "2      cs5s introduction computer science introductio...\n",
       "3      analytics edge inspiring example story discove...\n",
       "4      marketing analytics marketing measurement stra...\n",
       "                             ...                        \n",
       "714    global china mongol ming explore impact conque...\n",
       "715    leader citizen security justice management car...\n",
       "716    computational neuroscience neuronal dynamic co...\n",
       "717    city challenge sustainable development sustain...\n",
       "718    mathtrackx special function understand trigono...\n",
       "Name: Description, Length: 719, dtype: object"
      ]
     },
     "execution_count": 26,
     "metadata": {},
     "output_type": "execute_result"
    }
   ],
   "source": [
    "data.Description"
   ]
  },
  {
   "cell_type": "markdown",
   "id": "bf6d5af1",
   "metadata": {},
   "source": [
    "__Vectorization using TF-IDF (Term Frequency Inverse Document Frequency)__"
   ]
  },
  {
   "cell_type": "code",
   "execution_count": 27,
   "id": "00f76531",
   "metadata": {},
   "outputs": [],
   "source": [
    "from sklearn.feature_extraction.text import TfidfVectorizer"
   ]
  },
  {
   "cell_type": "code",
   "execution_count": 28,
   "id": "077af827",
   "metadata": {},
   "outputs": [],
   "source": [
    "vectorizer = TfidfVectorizer()"
   ]
  },
  {
   "cell_type": "code",
   "execution_count": 29,
   "id": "d1452a5e",
   "metadata": {},
   "outputs": [],
   "source": [
    "test_matrix = vectorizer.fit_transform(data['Description'])"
   ]
  },
  {
   "cell_type": "markdown",
   "id": "fb296e64",
   "metadata": {},
   "source": [
    "__Using cosine similarity for recommendation__"
   ]
  },
  {
   "cell_type": "code",
   "execution_count": 30,
   "id": "52b2ee7a",
   "metadata": {},
   "outputs": [],
   "source": [
    "from sklearn.metrics.pairwise import cosine_similarity"
   ]
  },
  {
   "cell_type": "code",
   "execution_count": 31,
   "id": "ee901f93",
   "metadata": {},
   "outputs": [],
   "source": [
    "#define a function that will return the first five recommended courses\n",
    "def Recommendation_Cosine_similarity(matrix, row_num):\n",
    "    similarity = cosine_similarity(test_matrix)\n",
    "    similar_courses = list(enumerate(similarity[row_num]))\n",
    "    sorted_similar_courses = sorted(similar_courses, key=lambda x:x[1], reverse= True)[1:6]\n",
    "#This part will return the description of the recommended courses\n",
    "    i = 0\n",
    "    for item in sorted_similar_courses:\n",
    "        course_description = data[data.index == item[0]][\"Name\"].values[0]\n",
    "        recommendations = print(f\"{i+1}\\t{course_description}\\n\")\n",
    "        i = i + 1\n",
    "    return recommendations"
   ]
  },
  {
   "cell_type": "code",
   "execution_count": 32,
   "id": "da79f465",
   "metadata": {},
   "outputs": [
    {
     "name": "stdout",
     "output_type": "stream",
     "text": [
      "1\tIntroduction to Data Analytics for Managers\n",
      "\n",
      "2\tStatistical Thinking for Data Science and Analytics\n",
      "\n",
      "3\tData Analytics and Visualization in Health Care\n",
      "\n",
      "4\tBig Data and Education\n",
      "\n",
      "5\tThe Power of Data\n",
      "\n"
     ]
    }
   ],
   "source": [
    "Recommendation_Cosine_similarity(test_matrix, 3)"
   ]
  },
  {
   "cell_type": "markdown",
   "id": "5163e19d",
   "metadata": {},
   "source": [
    "__Word Embedding(gensim.Word2Vec)__"
   ]
  },
  {
   "cell_type": "code",
   "execution_count": 38,
   "id": "73b15921",
   "metadata": {},
   "outputs": [
    {
     "data": {
      "text/html": [
       "<div>\n",
       "<style scoped>\n",
       "    .dataframe tbody tr th:only-of-type {\n",
       "        vertical-align: middle;\n",
       "    }\n",
       "\n",
       "    .dataframe tbody tr th {\n",
       "        vertical-align: top;\n",
       "    }\n",
       "\n",
       "    .dataframe thead th {\n",
       "        text-align: right;\n",
       "    }\n",
       "</style>\n",
       "<table border=\"1\" class=\"dataframe\">\n",
       "  <thead>\n",
       "    <tr style=\"text-align: right;\">\n",
       "      <th></th>\n",
       "      <th>Name</th>\n",
       "      <th>About</th>\n",
       "      <th>Course Description</th>\n",
       "      <th>Description</th>\n",
       "    </tr>\n",
       "  </thead>\n",
       "  <tbody>\n",
       "    <tr>\n",
       "      <th>0</th>\n",
       "      <td>How to Learn Online</td>\n",
       "      <td>Learn essential strategies for successful onli...</td>\n",
       "      <td>Designed for those who are new to elearning, t...</td>\n",
       "      <td>learn online learn essential strategy successf...</td>\n",
       "    </tr>\n",
       "    <tr>\n",
       "      <th>1</th>\n",
       "      <td>Programming for Everybody (Getting Started wit...</td>\n",
       "      <td>This course is a \"no prerequisite\" introductio...</td>\n",
       "      <td>This course aims to teach everyone the basics ...</td>\n",
       "      <td>programming everybody getting started python c...</td>\n",
       "    </tr>\n",
       "  </tbody>\n",
       "</table>\n",
       "</div>"
      ],
      "text/plain": [
       "                                                Name  \\\n",
       "0                                How to Learn Online   \n",
       "1  Programming for Everybody (Getting Started wit...   \n",
       "\n",
       "                                               About  \\\n",
       "0  Learn essential strategies for successful onli...   \n",
       "1  This course is a \"no prerequisite\" introductio...   \n",
       "\n",
       "                                  Course Description  \\\n",
       "0  Designed for those who are new to elearning, t...   \n",
       "1  This course aims to teach everyone the basics ...   \n",
       "\n",
       "                                         Description  \n",
       "0  learn online learn essential strategy successf...  \n",
       "1  programming everybody getting started python c...  "
      ]
     },
     "execution_count": 38,
     "metadata": {},
     "output_type": "execute_result"
    }
   ],
   "source": [
    "data.head(2)"
   ]
  },
  {
   "cell_type": "code",
   "execution_count": 39,
   "id": "f9fac1e1",
   "metadata": {},
   "outputs": [],
   "source": [
    "#Preprocessing\n",
    "def clean_for_word2vec(text):\n",
    "    text = re.sub(\"[^A-Za-z1-9 ]\", \"\", text) #removes punctuation marks\n",
    "    text = text.lower() #changes to lower case\n",
    "    tokens = word_tokenize(text) #tokenize the text\n",
    "    clean_list = [] \n",
    "    for token in tokens:\n",
    "        if token not in en_stopwords: #removes stopwords\n",
    "            clean_list.append(lemma.lemmatize(token)) #lemmatizing and appends to clean_list\n",
    "    return clean_list\n",
    "     "
   ]
  },
  {
   "cell_type": "code",
   "execution_count": 40,
   "id": "5b4bb1d0",
   "metadata": {},
   "outputs": [],
   "source": [
    "Description = data.Description.apply(clean_for_word2vec)#cleaning the documents"
   ]
  },
  {
   "cell_type": "code",
   "execution_count": 81,
   "id": "e97bbea3",
   "metadata": {},
   "outputs": [],
   "source": [
    "#Description[0]"
   ]
  },
  {
   "cell_type": "code",
   "execution_count": 41,
   "id": "797277f1",
   "metadata": {},
   "outputs": [],
   "source": [
    "from gensim.models import Word2Vec"
   ]
  },
  {
   "cell_type": "code",
   "execution_count": 65,
   "id": "31547b0a",
   "metadata": {},
   "outputs": [],
   "source": [
    "#instantiating the model\n",
    "model1 = Word2Vec(min_count=1)"
   ]
  },
  {
   "cell_type": "code",
   "execution_count": 66,
   "id": "5f45dfa8",
   "metadata": {},
   "outputs": [],
   "source": [
    "#building the vocabularies\n",
    "model1.build_vocab(Description)#building the word vocabulary"
   ]
  },
  {
   "cell_type": "code",
   "execution_count": 67,
   "id": "013409da",
   "metadata": {},
   "outputs": [
    {
     "data": {
      "text/plain": [
       "(426306, 447840)"
      ]
     },
     "execution_count": 67,
     "metadata": {},
     "output_type": "execute_result"
    }
   ],
   "source": [
    "#training the model\n",
    "model1.train(Description, total_examples = word2vec.corpus_count, epochs = word2vec.epochs)#training the model"
   ]
  },
  {
   "cell_type": "code",
   "execution_count": 69,
   "id": "414cfdd9",
   "metadata": {},
   "outputs": [
    {
     "data": {
      "text/plain": [
       "[('learning', 0.999171257019043),\n",
       " ('deep', 0.9990429878234863),\n",
       " ('algorithm', 0.9990376234054565),\n",
       " ('using', 0.9988803267478943),\n",
       " ('basic', 0.9988784193992615),\n",
       " ('concept', 0.9988451600074768),\n",
       " ('fundamental', 0.9988210797309875),\n",
       " ('statistical', 0.9988051056861877),\n",
       " ('python', 0.9987921714782715),\n",
       " ('apply', 0.9987490177154541)]"
      ]
     },
     "execution_count": 69,
     "metadata": {},
     "output_type": "execute_result"
    }
   ],
   "source": [
    "model1.wv.most_similar('machine')"
   ]
  },
  {
   "cell_type": "code",
   "execution_count": 70,
   "id": "d687e58d",
   "metadata": {},
   "outputs": [
    {
     "data": {
      "text/plain": [
       "0.99917126"
      ]
     },
     "execution_count": 70,
     "metadata": {},
     "output_type": "execute_result"
    }
   ],
   "source": [
    "model1.wv.similarity(w1 = 'machine', w2 = 'learning')"
   ]
  },
  {
   "cell_type": "code",
   "execution_count": 71,
   "id": "389c8827",
   "metadata": {},
   "outputs": [
    {
     "data": {
      "text/plain": [
       "0.987898"
      ]
     },
     "execution_count": 71,
     "metadata": {},
     "output_type": "execute_result"
    }
   ],
   "source": [
    "model1.wv.similarity(w1 = 'validity', w2 = 'statistic')"
   ]
  }
 ],
 "metadata": {
  "kernelspec": {
   "display_name": "Python 3 (ipykernel)",
   "language": "python",
   "name": "python3"
  },
  "language_info": {
   "codemirror_mode": {
    "name": "ipython",
    "version": 3
   },
   "file_extension": ".py",
   "mimetype": "text/x-python",
   "name": "python",
   "nbconvert_exporter": "python",
   "pygments_lexer": "ipython3",
   "version": "3.11.1"
  }
 },
 "nbformat": 4,
 "nbformat_minor": 5
}
